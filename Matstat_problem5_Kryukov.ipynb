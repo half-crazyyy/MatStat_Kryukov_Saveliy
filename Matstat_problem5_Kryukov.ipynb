{
  "nbformat": 4,
  "nbformat_minor": 0,
  "metadata": {
    "colab": {
      "provenance": []
    },
    "kernelspec": {
      "name": "python3",
      "display_name": "Python 3"
    },
    "language_info": {
      "name": "python"
    }
  },
  "cells": [
    {
      "cell_type": "code",
      "execution_count": 72,
      "metadata": {
        "id": "CLCvTmKPSbmJ"
      },
      "outputs": [],
      "source": [
        "import numpy as np\n",
        "import matplotlib.pyplot as plt\n",
        "from scipy.stats import moment"
      ]
    },
    {
      "cell_type": "code",
      "source": [
        "def val(x, tetha):\n",
        "    return (1 - x) ** (1 / (1 - tetha))\n",
        "\n",
        "N = 100\n",
        "tetha = 3\n",
        "a = 0.05\n",
        "np.random.seed(4)\n",
        "X = [val(x, tetha) for x in np.random.sample(N)]\n",
        "X.sort()\n",
        "x = np.linspace(1, 2, 100)\n",
        "plt.plot(x, X)\n",
        "plt.show()\n",
        "\n"
      ],
      "metadata": {
        "colab": {
          "base_uri": "https://localhost:8080/",
          "height": 430
        },
        "id": "mgu0ORoUSdXB",
        "outputId": "733b231c-1e9e-4ed5-f859-dd470bf48645"
      },
      "execution_count": 73,
      "outputs": [
        {
          "output_type": "display_data",
          "data": {
            "text/plain": [
              "<Figure size 640x480 with 1 Axes>"
            ],
            "image/png": "[encoded data removed]"
          },
          "metadata": {}
        }
      ]
    },
    {
      "cell_type": "code",
      "source": [
        "tetha_estimate = N/np.sum(np.log(X)) + 1\n",
        "print(\"ОМП: tetha_estimate = \", tetha_estimate)\n",
        "\n",
        "right_border = (1.96 * np.log(2) * (2 ** (1 / (tetha_estimate - 1)))) / (tetha_estimate - 1) / 10 + 2 ** (1 / (tetha_estimate -1))\n",
        "left_border = (-(1.96 * np.log(2) * (2 ** (1 / (tetha_estimate - 1)))) / (tetha_estimate - 1) / 10 + 2 ** (1 / (tetha_estimate -1)))\n",
        "\n",
        "print('Доверительный интервал для медианы: [',left_border , ', ',right_border, ']')\n",
        "print(\"Размах = \", right_border - left_border)"
      ],
      "metadata": {
        "colab": {
          "base_uri": "https://localhost:8080/"
        },
        "id": "Ppco2fPITO2W",
        "outputId": "2b9acc55-3add-4906-f8ca-3800a76ced10"
      },
      "execution_count": 74,
      "outputs": [
        {
          "output_type": "stream",
          "name": "stdout",
          "text": [
            "ОМП: tetha_estimate =  2.9784194435005427\n",
            "Доверительный интервал для медианы: [ 1.322088998686132 ,  1.5170509974907231 ]\n",
            "Размах =  0.1949619988045912\n"
          ]
        }
      ]
    },
    {
      "cell_type": "code",
      "source": [
        "left_border1 = -1.96 * (tetha_estimate - 1) / np.sqrt(N) + tetha_estimate\n",
        "right_border1 = 1.96 * (tetha_estimate - 1) / np.sqrt(N) + tetha_estimate\n",
        "\n",
        "print('Асимптотический доверительный интервал для tetha: [',left_border1 , ', ',right_border1, ']')\n",
        "print(\"Размах = \", right_border1 - left_border1)"
      ],
      "metadata": {
        "colab": {
          "base_uri": "https://localhost:8080/"
        },
        "id": "NfpJ8gC1iaqH",
        "outputId": "e3c09c07-5ad6-4e1b-c5ad-15a33f49996c"
      },
      "execution_count": 75,
      "outputs": [
        {
          "output_type": "stream",
          "name": "stdout",
          "text": [
            "Асимптотический доверительный интервал для tetha: [ 2.590649232574436 ,  3.366189654426649 ]\n",
            "Размах =  0.7755404218522131\n"
          ]
        }
      ]
    },
    {
      "cell_type": "code",
      "source": [
        "def f(X, N):\n",
        "    return 1 + N / sum([np.log(x) for x in X])\n",
        "\n",
        "M = np.sort(np.array([f([val(x, tetha)\n",
        "                                   for x in np.random.sample(N)], N) for i in range(50000)]))\n",
        "\n",
        "left_border2 = M[int(a/2*50000)]\n",
        "right_border2 = M[int((1-a/2)*50000)]\n",
        "\n",
        "print('Бутстраповский параметрический интервал: [',left_border2 , ', ',right_border2, ']')\n",
        "print(\"Размах = \", right_border2 - left_border2)"
      ],
      "metadata": {
        "colab": {
          "base_uri": "https://localhost:8080/"
        },
        "id": "U_AbwyvKi4B0",
        "outputId": "9a888db0-2627-4335-f483-faf6f72709a3"
      },
      "execution_count": 76,
      "outputs": [
        {
          "output_type": "stream",
          "name": "stdout",
          "text": [
            "Бутстраповский параметрический интервал: [ 2.657850372931186 ,  3.4514793508046386 ]\n",
            "Размах =  0.7936289778734524\n"
          ]
        }
      ]
    },
    {
      "cell_type": "code",
      "source": [
        "M = np.array([])\n",
        "for i in range(1000):\n",
        "    M = np.append(M, N/np.sum(np.log((np.random.choice(X, size = len(X))))) + 1 - tetha_estimate)\n",
        "M = np.sort(M)\n",
        "\n",
        "left_border3 = tetha_estimate + M[74]\n",
        "right_border3 = tetha_estimate + M[974]\n",
        "\n",
        "print('Бутстраповский непараметрический интервал: [',left_border3 , ', ',right_border3, ']')\n",
        "print(\"Размах = \", right_border3 - left_border3)"
      ],
      "metadata": {
        "colab": {
          "base_uri": "https://localhost:8080/"
        },
        "id": "2jV8mQsikc7p",
        "outputId": "df63f736-4af5-4936-c814-b1d672ce5b6d"
      },
      "execution_count": 77,
      "outputs": [
        {
          "output_type": "stream",
          "name": "stdout",
          "text": [
            "Бутстраповский непараметрический интервал: [ 2.7540910962210448 ,  3.3768443816084597 ]\n",
            "Размах =  0.6227532853874149\n"
          ]
        }
      ]
    },
    {
      "cell_type": "code",
      "source": [
        "x1 = np.linspace(left_border, right_border, 100)\n",
        "y1 = [1] * 100\n",
        "\n",
        "x2 = np.linspace(left_border1, right_border1, 100)\n",
        "y2 = [2] * 100\n",
        "\n",
        "x3 = np.linspace(left_border2, right_border2, 100)\n",
        "y3 = [3] * 100\n",
        "\n",
        "x4 = np.linspace(left_border3, right_border3, 100)\n",
        "y4 = [4] * 100\n",
        "\n",
        "plt.plot(x1, y1,)\n",
        "plt.plot(x2, y2)\n",
        "plt.plot(x3, y3)\n",
        "plt.plot(x4, y4)\n",
        "plt.legend(['Для медианы', 'Асимптотический', 'Bootstrap парам', 'Bootstrap непарам'])\n",
        "\n",
        "plt.show()"
      ],
      "metadata": {
        "colab": {
          "base_uri": "https://localhost:8080/",
          "height": 430
        },
        "id": "4sDrUpBpl1_x",
        "outputId": "0b0cd612-bc15-4374-b744-4e8ba9482bdc"
      },
      "execution_count": 78,
      "outputs": [
        {
          "output_type": "display_data",
          "data": {
            "text/plain": [
              "<Figure size 640x480 with 1 Axes>"
            ],
            "image/png": "[encoded data removed]"
          },
          "metadata": {}
        }
      ]
    },
    {
      "cell_type": "code",
      "source": [],
      "metadata": {
        "id": "ZAQdAi_tmUKq"
      },
      "execution_count": 64,
      "outputs": []
    }
  ]
}