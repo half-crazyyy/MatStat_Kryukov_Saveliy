{
  "metadata": {
    "kernelspec": {
      "name": "python",
      "display_name": "Python (Pyodide)",
      "language": "python"
    },
    "language_info": {
      "codemirror_mode": {
        "name": "python",
        "version": 3
      },
      "file_extension": ".py",
      "mimetype": "text/x-python",
      "name": "python",
      "nbconvert_exporter": "python",
      "pygments_lexer": "ipython3",
      "version": "3.8"
    },
    "colab": {
      "provenance": []
    }
  },
  "nbformat_minor": 0,
  "nbformat": 4,
  "cells": [
    {
      "cell_type": "code",
      "source": [
        "import numpy as np\n",
        "import matplotlib.pyplot as plt\n",
        "from scipy.stats import moment"
      ],
      "metadata": {
        "trusted": true,
        "id": "Qd07R1LDn3X_"
      },
      "outputs": [],
      "execution_count": 1
    },
    {
      "cell_type": "code",
      "source": [
        "N = 100\n",
        "tetha = 3\n",
        "np.random.seed(400)\n",
        "X = np.random.randint(tetha, 2*tetha, N)\n",
        "tetha_estimate = 2 / 3 * (np.sum(X) / N)\n",
        "X\n"
      ],
      "metadata": {
        "trusted": true,
        "colab": {
          "base_uri": "https://localhost:8080/"
        },
        "id": "o4Dwi4tan3YB",
        "outputId": "415d3a7e-6217-4432-fd6d-0b77f7cc49cd"
      },
      "outputs": [
        {
          "output_type": "execute_result",
          "data": {
            "text/plain": [
              "array([3, 5, 4, 3, 5, 4, 3, 5, 5, 5, 4, 5, 4, 4, 5, 4, 5, 3, 4, 5, 5, 3,\n",
              "       3, 4, 4, 4, 3, 5, 5, 4, 4, 3, 3, 3, 4, 4, 3, 5, 3, 4, 4, 3, 5, 3,\n",
              "       5, 3, 4, 3, 3, 4, 5, 3, 5, 3, 5, 5, 4, 4, 3, 3, 3, 4, 4, 3, 3, 4,\n",
              "       5, 3, 5, 3, 5, 4, 5, 3, 5, 4, 5, 5, 3, 5, 3, 3, 3, 5, 5, 4, 3, 5,\n",
              "       4, 5, 5, 4, 3, 5, 3, 5, 3, 5, 4, 3])"
            ]
          },
          "metadata": {},
          "execution_count": 2
        }
      ],
      "execution_count": 2
    },
    {
      "cell_type": "code",
      "source": [
        "tetha_estimate"
      ],
      "metadata": {
        "trusted": true,
        "colab": {
          "base_uri": "https://localhost:8080/"
        },
        "id": "Gz-eIAvAn3YC",
        "outputId": "22e72b29-f9ba-4ca4-af90-39318b01b0a9"
      },
      "outputs": [
        {
          "output_type": "execute_result",
          "data": {
            "text/plain": [
              "2.66"
            ]
          },
          "metadata": {},
          "execution_count": 3
        }
      ],
      "execution_count": 3
    },
    {
      "cell_type": "code",
      "source": [
        "# Точный доверительный интервао\n",
        "a = 0.05\n",
        "\n",
        "left_border = np.max(X)/(1+(1 - a/2)**(1/N))\n",
        "right_border = np.max(X)/(1+(a/2)**(1/N))\n",
        "\n",
        "print('Точный интервал: [',left_border , ', ',right_border, ']')\n",
        "print(\"Размах = \", right_border - left_border)"
      ],
      "metadata": {
        "trusted": true,
        "colab": {
          "base_uri": "https://localhost:8080/"
        },
        "id": "tlrD7qfdn3YD",
        "outputId": "b7406313-13f2-48e4-9b87-d5c7fae11bad"
      },
      "outputs": [
        {
          "output_type": "stream",
          "name": "stdout",
          "text": [
            "Точный интервал: [ 2.5003164725981133 ,  2.5461057649659415 ]\n",
            "Размах =  0.04578929236782825\n"
          ]
        }
      ],
      "execution_count": 4
    },
    {
      "cell_type": "code",
      "source": [
        "# Асимптотический доверительный интервал\n",
        "XX = X ** 2\n",
        "\n",
        "left_border1 = -1.96 * (2 / 3) / 10 * np.sqrt(0.01 * np.sum(XX) - (0.01 * np.sum(X)) ** 2) + tetha_estimate\n",
        "right_border1 = 1.96 * (2 / 3) / 10 * np.sqrt(0.01 * np.sum(XX) - (0.01 * np.sum(X)) ** 2) + tetha_estimate\n",
        "\n",
        "print('Асимптотический интервал: [',left_border1 , ', ',right_border1, ']')\n",
        "print(\"Размах = \", right_border1 - left_border1)"
      ],
      "metadata": {
        "trusted": true,
        "colab": {
          "base_uri": "https://localhost:8080/"
        },
        "id": "OgjTo4mJn3YD",
        "outputId": "0c130a9b-4483-4578-a8fd-6ecd79a5ad3d"
      },
      "outputs": [
        {
          "output_type": "stream",
          "name": "stdout",
          "text": [
            "Асимптотический интервал: [ 2.5499060635436974 ,  2.770093936456303 ]\n",
            "Размах =  0.22018787291260544\n"
          ]
        }
      ],
      "execution_count": 5
    },
    {
      "cell_type": "code",
      "source": [
        "# Бутстраповский доверительный интервал\n",
        "M = np.array([])\n",
        "for i in range(1000):\n",
        "    M = np.append(M, 2/3*np.mean(np.random.choice(X, size = len(X))) - 2/3*np.mean(X))\n",
        "M = np.sort(M)\n",
        "left_border2 = 2/3*np.mean(X) + M[24]\n",
        "right_border2 = 2/3*np.mean(X) + M[974]\n",
        "print('Бутстраповский интервал: [',left_border2 , ', ',right_border2, ']')\n",
        "print(\"Размах = \", right_border2 - left_border2)"
      ],
      "metadata": {
        "trusted": true,
        "colab": {
          "base_uri": "https://localhost:8080/"
        },
        "id": "GMr9Zc7ln3YE",
        "outputId": "3cdf7f95-c454-47f2-a1f5-dc71cb1a2b24"
      },
      "outputs": [
        {
          "output_type": "stream",
          "name": "stdout",
          "text": [
            "Бутстраповский интервал: [ 2.5466666666666664 ,  2.7733333333333334 ]\n",
            "Размах =  0.22666666666666702\n"
          ]
        }
      ],
      "execution_count": 6
    },
    {
      "cell_type": "code",
      "source": [
        "x1 = np.linspace(left_border, right_border, 100)\n",
        "y1 = [1] * 100\n",
        "\n",
        "x2 = np.linspace(left_border1, right_border1, 100)\n",
        "y2 = [2] * 100\n",
        "\n",
        "x3 = np.linspace(left_border2, right_border2, 100)\n",
        "y3 = [3] * 100\n",
        "\n",
        "plt.plot(x1, y1,)\n",
        "plt.plot(x2, y2)\n",
        "plt.plot(x3, y3)\n",
        "plt.legend(['Точный', 'Асимптотический', 'Bootstrap'])\n",
        "\n",
        "plt.show()"
      ],
      "metadata": {
        "trusted": true,
        "colab": {
          "base_uri": "https://localhost:8080/",
          "height": 430
        },
        "id": "jAhnDH1ln3YE",
        "outputId": "840dc09a-5890-403d-cd69-682be2f0d9f6"
      },
      "outputs": [
        {
          "output_type": "display_data",
          "data": {
            "text/plain": [
              "<Figure size 640x480 with 1 Axes>"
            ],
            "image/png": "[encoded data removed]"
          },
          "metadata": {}
        }
      ],
      "execution_count": 7
    },
    {
      "cell_type": "code",
      "source": [],
      "metadata": {
        "trusted": true,
        "id": "QcxCBSyIn3YE"
      },
      "outputs": [],
      "execution_count": 7
    },
    {
      "cell_type": "code",
      "source": [],
      "metadata": {
        "trusted": true,
        "id": "d5J5KzLtn3YF"
      },
      "outputs": [],
      "execution_count": null
    }
  ]
}